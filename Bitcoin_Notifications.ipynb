{
 "cells": [
  {
   "cell_type": "code",
   "execution_count": 53,
   "metadata": {},
   "outputs": [
    {
     "name": "stdout",
     "output_type": "stream",
     "text": [
      "                  Value\n",
      "Date                   \n",
      "2018-11-01  6310.284167\n",
      "2018-11-02  6342.280833\n",
      "2018-11-03  6387.674167\n",
      "2018-11-04  6363.795833\n",
      "2018-11-05  6391.873333\n",
      "2018-11-06  6436.965000\n",
      "2018-11-07  6445.354167\n",
      "2018-11-08  6538.790000\n",
      "2018-11-09  6486.251667\n",
      "2018-11-10  6411.280833\n",
      "2018-11-11  6399.033333\n",
      "2018-11-12  6378.268333\n",
      "2018-11-13  6401.936667\n",
      "2018-11-14  6372.063333\n",
      "2018-11-15  6176.155000\n",
      "2018-11-16  5615.180000\n",
      "2018-11-17  5596.192500\n",
      "2018-11-18  5558.243333\n",
      "2018-11-19  5606.044167\n",
      "2018-11-20  5303.942500\n",
      "2018-11-21  4671.970000\n",
      "2018-11-22  4533.680833\n",
      "2018-11-23  4548.797500\n",
      "2018-11-24  4309.337500\n",
      "2018-11-25  4293.840833\n",
      "2018-11-26  3823.511667\n",
      "2018-11-27  3920.536667\n",
      "2018-11-28  3751.668333\n",
      "2018-11-29  4103.453846\n",
      "2018-11-30  4263.783333\n",
      "...                 ...\n",
      "2019-03-30  4075.526429\n",
      "2019-03-31  4107.340833\n",
      "2019-04-01  4109.316667\n",
      "2019-04-02  4145.108462\n",
      "2019-04-03  4675.112500\n",
      "2019-04-04  5018.498333\n",
      "2019-04-05  4970.849167\n",
      "2019-04-06  4980.898333\n",
      "2019-04-07  5042.517692\n",
      "2019-04-08  5126.834167\n",
      "2019-04-09  5214.276667\n",
      "2019-04-10  5197.750769\n",
      "2019-04-11  5251.190000\n",
      "2019-04-12  5111.770769\n",
      "2019-04-13  5031.475000\n",
      "2019-04-14  5076.300000\n",
      "2019-04-15  5077.805000\n",
      "2019-04-16  5114.854167\n",
      "2019-04-17  5109.946667\n",
      "2019-04-18  5214.574167\n",
      "2019-04-19  5263.397500\n",
      "2019-04-20  5255.614167\n",
      "2019-04-21  5302.957500\n",
      "2019-04-22  5274.145833\n",
      "2019-04-23  5305.275000\n",
      "2019-04-24  5527.801667\n",
      "2019-04-25  5465.515000\n",
      "2019-04-26  5421.526667\n",
      "2019-04-27  5280.616667\n",
      "2019-04-28  5281.809167\n",
      "\n",
      "[179 rows x 1 columns]\n"
     ]
    }
   ],
   "source": [
    "import quandl as qndl\n",
    "import datetime as dtime\n",
    "import numpy as nmpy\n",
    "import pandas as pd   \n",
    "import csv\n",
    "\n",
    "qndl.ApiConfig.api_key = \"1j7PHpz1kT9sozHM3f6e\"\n",
    "bitcoin_prices_df = qndl.get(\"BCHAIN/MKPRU\", start_date = \"2018-11-01\", end_date = \"2019-04-28\", collapse = \"daily\")\n",
    "print(bitcoin_prices_df)\n",
    "prediction = pd.DataFrame(bitcoin_prices_df, columns = ['Value']).to_csv('data.csv')"
   ]
  },
  {
   "cell_type": "code",
   "execution_count": 54,
   "metadata": {
    "scrolled": true
   },
   "outputs": [
    {
     "name": "stdout",
     "output_type": "stream",
     "text": [
      "[[ 62]\n",
      " [ 81]\n",
      " [ 51]\n",
      " [ 27]\n",
      " [ 83]\n",
      " [ 63]\n",
      " [169]\n",
      " [ 70]\n",
      " [  0]\n",
      " [ 28]\n",
      " [ 75]\n",
      " [ 11]\n",
      " [ 67]\n",
      " [133]\n",
      " [ 46]\n",
      " [ 14]\n",
      " [ 87]\n",
      " [157]\n",
      " [ 33]\n",
      " [145]\n",
      " [ 92]\n",
      " [139]\n",
      " [116]\n",
      " [174]\n",
      " [149]\n",
      " [151]\n",
      " [  2]\n",
      " [ 36]\n",
      " [142]\n",
      " [ 97]\n",
      " [129]\n",
      " [158]\n",
      " [165]\n",
      " [ 49]\n",
      " [ 78]\n",
      " [127]\n",
      " [  3]\n",
      " [ 88]\n",
      " [108]\n",
      " [150]\n",
      " [170]\n",
      " [172]\n",
      " [136]\n",
      " [162]\n",
      " [  9]\n",
      " [ 99]\n",
      " [113]\n",
      " [ 80]\n",
      " [ 66]\n",
      " [ 19]\n",
      " [ 93]\n",
      " [159]\n",
      " [ 64]\n",
      " [166]\n",
      " [ 39]\n",
      " [ 15]\n",
      " [  5]\n",
      " [ 13]\n",
      " [154]\n",
      " [ 69]\n",
      " [ 59]\n",
      " [128]\n",
      " [152]\n",
      " [175]\n",
      " [ 23]\n",
      " [ 74]\n",
      " [ 68]\n",
      " [109]\n",
      " [ 41]\n",
      " [ 71]\n",
      " [ 86]\n",
      " [  1]\n",
      " [ 82]\n",
      " [177]\n",
      " [176]\n",
      " [ 18]\n",
      " [156]\n",
      " [ 55]\n",
      " [ 25]\n",
      " [ 16]\n",
      " [ 12]\n",
      " [144]\n",
      " [147]\n",
      " [167]\n",
      " [  7]\n",
      " [125]\n",
      " [ 10]\n",
      " [ 31]\n",
      " [115]\n",
      " [ 96]\n",
      " [ 54]\n",
      " [160]\n",
      " [100]\n",
      " [121]\n",
      " [  6]\n",
      " [141]\n",
      " [ 95]\n",
      " [164]\n",
      " [102]\n",
      " [163]\n",
      " [ 61]\n",
      " [ 79]\n",
      " [ 76]\n",
      " [140]\n",
      " [123]\n",
      " [ 40]\n",
      " [ 20]\n",
      " [ 58]\n",
      " [122]\n",
      " [ 48]\n",
      " [153]\n",
      " [119]\n",
      " [ 35]\n",
      " [ 91]\n",
      " [146]\n",
      " [134]\n",
      " [ 21]\n",
      " [ 17]\n",
      " [105]\n",
      " [104]\n",
      " [124]\n",
      " [ 44]\n",
      " [ 50]\n",
      " [ 37]\n",
      " [ 38]\n",
      " [111]\n",
      " [130]\n",
      " [ 43]\n",
      " [  4]\n",
      " [148]\n",
      " [118]\n",
      " [ 53]\n",
      " [ 45]\n",
      " [168]]\n",
      "[[171]\n",
      " [ 52]\n",
      " [ 56]\n",
      " [ 98]\n",
      " [132]\n",
      " [ 72]\n",
      " [  8]\n",
      " [ 34]\n",
      " [ 32]\n",
      " [ 26]\n",
      " [ 60]\n",
      " [135]\n",
      " [173]\n",
      " [ 89]\n",
      " [138]\n",
      " [ 85]\n",
      " [137]\n",
      " [117]\n",
      " [ 24]\n",
      " [106]\n",
      " [107]\n",
      " [ 90]\n",
      " [103]\n",
      " [ 30]\n",
      " [ 73]\n",
      " [101]\n",
      " [155]\n",
      " [143]\n",
      " [114]\n",
      " [ 42]\n",
      " [ 94]\n",
      " [110]\n",
      " [ 77]\n",
      " [161]\n",
      " [ 29]\n",
      " [ 84]\n",
      " [ 47]\n",
      " [ 22]\n",
      " [178]\n",
      " [ 57]\n",
      " [126]\n",
      " [131]\n",
      " [112]\n",
      " [120]\n",
      " [ 65]]\n",
      "[3752.27166667 3620.1275     4015.60916667 3751.66833333 3558.92416667\n",
      " 3867.13833333 5263.3975     4034.13833333 6310.28416667 4103.45384615\n",
      " 3604.1175     6378.26833333 3920.45666667 3881.37923077 3271.23833333\n",
      " 6176.155      3589.26083333 5042.51769231 3967.52416667 3977.45416667\n",
      " 3454.00882353 4008.65833333 4020.12583333 5527.80166667 4075.52642857\n",
      " 4109.31666667 6387.67416667 3742.94333333 4000.335      3458.70333333\n",
      " 3919.56583333 5126.83416667 5077.805      3808.0425     3619.96416667\n",
      " 3888.70166667 6363.79583333 3567.76333333 3630.39666667 4107.34083333\n",
      " 5255.61416667 5274.14583333 4011.0925     5111.77076923 6411.28083333\n",
      " 3403.96416667 3948.41166667 3690.52333333 3868.4875     5303.9425\n",
      " 3454.19461538 5214.27666667 3865.7975     5114.85416667 3528.80333333\n",
      " 5615.18       6436.965      6372.06333333 5018.49833333 4035.855\n",
      " 3912.28583333 3905.05833333 4145.10846154 5465.515      4309.3375\n",
      " 3599.84166667 4036.09333333 3631.55333333 3426.19       3812.58583333\n",
      " 3572.735      6342.28083333 3548.4275     5280.61666667 5421.52666667\n",
      " 5606.04416667 4980.89833333 3813.88       3823.51166667 5596.1925\n",
      " 6401.93666667 3995.32333333 4011.36583333 5109.94666667 6538.79\n",
      " 3793.26083333 6399.03333333 4116.7775     4018.04416667 3452.32833333\n",
      " 4178.59083333 5197.75076923 3498.86833333 3842.13916667 6445.35416667\n",
      " 4026.63583333 3468.305      5076.3        3645.27666667 5031.475\n",
      " 3791.54583333 3632.395      3656.785      4025.02583333 3827.69083333\n",
      " 3523.96       4671.97       3743.905      3827.4875     3567.47\n",
      " 4675.1125     3832.61307692 3858.34916667 3452.22333333 3933.95416667\n",
      " 3883.98928571 4533.68083333 5558.24333333 3623.07166667 3624.15583333\n",
      " 3749.56833333 3278.37416667 3982.85083333 3405.64333333 3435.34\n",
      " 3933.14333333 3922.615      3406.7625     6391.87333333 4034.05666667\n",
      " 3833.31083333 4027.47833333 3225.29916667 5214.57416667]\n",
      "[5302.9575     3910.97333333 3825.37916667 3406.82083333 3880.7675\n",
      " 3656.73583333 6486.25166667 3961.49333333 4167.54666667 3920.53666667\n",
      " 3832.92166667 3918.08666667 5305.275      3458.06666667 3998.4975\n",
      " 3567.29916667 3994.34833333 3829.56833333 4293.84083333 3609.86916667\n",
      " 3610.74833333 3417.1675     3634.77       4106.87166667 3646.34583333\n",
      " 3652.21166667 4970.84916667 4006.11583333 3968.65666667 3462.04\n",
      " 3470.07916667 3810.78153846 3621.27083333 5251.19       4263.78333333\n",
      " 3579.89666667 3392.405      4548.7975     5281.80916667 3747.83916667\n",
      " 3863.33333333 3896.71833333 3951.565      3843.58333333 3822.62666667]\n"
     ]
    }
   ],
   "source": [
    "\n",
    "from sklearn.model_selection import train_test_split\n",
    "\n",
    "bitcoin_prices_df = bitcoin_prices_df.reset_index()\n",
    "bitcoin_out_prices = bitcoin_prices_df['Value'].tolist() \n",
    "bitcoin_datetime = bitcoin_prices_df.index.tolist() \n",
    "#Defining empty training and testing\n",
    "train_date,test_date,train_stock_prices, test_stock_prices = ([] for i in range(4))\n",
    "\n",
    "#Applied cross-validation to obtain more random data for training/testing sets\n",
    "train_date, test_date, train_bitcoin_prices, test_bitcoin_prices = train_test_split(bitcoin_datetime, bitcoin_out_prices, train_size = 0.75, test_size = 0.25)\n",
    "\n",
    "#The lists are converted to numpy arrays\n",
    "train_date = nmpy.array(train_date)\n",
    "test_date = nmpy.array(test_date)\n",
    "train_bitcoin_prices = nmpy.array(train_bitcoin_prices)\n",
    "test_bitcoin_prices = nmpy.array(test_bitcoin_prices)\n",
    "\n",
    "#Reshaped values as we used single feature\n",
    "train_date= nmpy.reshape(train_date, (len(train_date), 1))\n",
    "test_date = nmpy.reshape(test_date, (len(test_date), 1))\n",
    "\n",
    "print(train_date)\n",
    "print(test_date)\n",
    "print(train_bitcoin_prices)\n",
    "print(test_bitcoin_prices)\n"
   ]
  },
  {
   "cell_type": "code",
   "execution_count": 55,
   "metadata": {},
   "outputs": [
    {
     "name": "stdout",
     "output_type": "stream",
     "text": [
      "[4060.47318713 3867.41482456 3873.90418129 3942.04242691 3997.20195905\n",
      " 3899.86160818 3796.03190059 3838.21271931 3834.96804094 3825.23400585\n",
      " 3880.39353801 4002.06897662 4063.7178655  3927.44137428 4006.93599416\n",
      " 3920.95201754 4005.31365497 3972.86687136 3821.98932749 3955.02114034\n",
      " 3956.64347953 3929.06371344 3950.15412281 3831.72336257 3901.48394736\n",
      " 3946.90944444 4034.51576025 4015.04769004 3967.9998538  3851.19143275\n",
      " 3935.55307017 3961.51049709 3907.9733041  4044.24979533 3830.1010234\n",
      " 3919.32967836 3859.30312865 3818.74464912 4071.82956142 3875.52652047\n",
      " 3987.46792398 3995.57961989 3964.75517543 3977.73388887 3888.50523392]\n"
     ]
    }
   ],
   "source": [
    "from sklearn import svm\n",
    "# Created linear Support Vector Regression object\n",
    "lin = svm.SVR(kernel ='linear',C = 1000)\n",
    "lin.fit(train_date, train_bitcoin_prices)# Linear Support Vector Regression model is fit to training Data\n",
    "pred_lin_bitcoin = lin.predict(test_date)# Made predictions using the testing set\n",
    "print(pred_lin_bitcoin)"
   ]
  },
  {
   "cell_type": "code",
   "execution_count": 56,
   "metadata": {},
   "outputs": [
    {
     "name": "stdout",
     "output_type": "stream",
     "text": [
      "0.6228551000937999\n"
     ]
    }
   ],
   "source": [
    "scratch=lin.score(test_date,test_bitcoin_prices)*100 #Checked accuracy of prediction\n",
    "\n",
    "print(scratch)"
   ]
  },
  {
   "cell_type": "code",
   "execution_count": 57,
   "metadata": {},
   "outputs": [
    {
     "data": {
      "image/png": "[encoded data removed]",
      "text/plain": [
       "<Figure size 432x288 with 1 Axes>"
      ]
     },
     "metadata": {
      "needs_background": "light"
     },
     "output_type": "display_data"
    }
   ],
   "source": [
    "import matplotlib.pyplot as plot\n",
    "\n",
    "# Plot outputs for Linear Support Vector Regression:\n",
    "plot.scatter(range(len(test_bitcoin_prices)), test_bitcoin_prices, color = \"black\", label = \"Data points\")\n",
    "plot.plot(range(len(test_bitcoin_prices)), pred_lin_bitcoin, color = \"blue\", label = \"Linear Support Vector Regression Model\")\n",
    "plot.xlabel(\"Date\")\n",
    "plot.ylabel(\"Bitcoin Prices\")\n",
    "plot.title(\"Linear Support Vector Regression\")\n",
    "plot.legend()\n",
    "plot.show()"
   ]
  },
  {
   "cell_type": "code",
   "execution_count": 58,
   "metadata": {},
   "outputs": [
    {
     "name": "stdout",
     "output_type": "stream",
     "text": [
      "[5243.85421342 4042.0162249  3697.01628185 3430.43506443 3902.04997402\n",
      " 3668.05739637 6443.39160601 3938.31744718 4016.29267326 3726.47394498\n",
      " 3823.53238729 3949.23459342 5350.5876723  3521.20624163 4023.05144722\n",
      " 3571.97079179 4033.49881935 3954.58665403 4056.85711991 3627.96861822\n",
      " 3620.78354699 3474.77802858 3643.33769243 4216.20504979 3594.56843848\n",
      " 3590.54440334 4999.07584183 4006.41762425 3971.89183453 3503.0068985\n",
      " 3458.56214707 3832.38765538 3639.96483155 5155.36404897 4212.18959583\n",
      " 3560.10258712 3416.00442207 4387.96689013 5055.20649028 3675.58643793\n",
      " 3841.6537833  3920.08082537 3957.4805033  3834.64119198 3865.64516613]\n"
     ]
    }
   ],
   "source": [
    "from sklearn.svm import SVR\n",
    "\n",
    "rbf_svr = SVR(kernel = 'rbf', C = 1000, gamma = 0.1) \n",
    "rbf_svr.fit(train_date, train_bitcoin_prices)\n",
    "pred_rbf_bitcoin = rbf_svr.predict(test_date) \n",
    "\n",
    "print(pred_rbf_bitcoin)"
   ]
  },
  {
   "cell_type": "code",
   "execution_count": 59,
   "metadata": {},
   "outputs": [
    {
     "name": "stdout",
     "output_type": "stream",
     "text": [
      "98.27487578484967\n"
     ]
    }
   ],
   "source": [
    "print(rbf_svr.score(test_date, test_bitcoin_prices)*100) #Checked accuracy of prediction"
   ]
  },
  {
   "cell_type": "code",
   "execution_count": 60,
   "metadata": {},
   "outputs": [
    {
     "data": {
      "image/png": "[encoded data removed]",
      "text/plain": [
       "<Figure size 432x288 with 1 Axes>"
      ]
     },
     "metadata": {
      "needs_background": "light"
     },
     "output_type": "display_data"
    }
   ],
   "source": [
    "import matplotlib.pyplot as plot\n",
    "\n",
    "# Plot outputs for Rbf Support Vector Regression:\n",
    "plot.scatter(range(len(test_bitcoin_prices)), test_bitcoin_prices, color = \"blue\", label = \"Data points\")\n",
    "plot.plot(range(len(test_bitcoin_prices)), pred_rbf_bitcoin, color = \"green\", label = \"Rbf Support Vector Regression Model\")\n",
    "plot.xlabel(\"Date\")\n",
    "plot.ylabel(\"Bitcoin Prices\")\n",
    "plot.title(\"Rbf Support Vector Regression\")\n",
    "plot.legend()\n",
    "plot.show()"
   ]
  },
  {
   "cell_type": "code",
   "execution_count": 61,
   "metadata": {},
   "outputs": [
    {
     "name": "stdout",
     "output_type": "stream",
     "text": [
      "[5261.19171833 4016.16382167 3903.908185   3447.40012269 3892.91751187\n",
      " 3856.569745   6492.57329167 3917.616575   4047.48037103 3867.08557462\n",
      " 3861.75917166 3922.9535726  5340.81580667 3560.55606638 4010.12216405\n",
      " 3569.87337167 4000.21753478 3963.33435782 4215.8175841  3624.416645\n",
      " 3632.655005   3480.54426264 3633.379215   4069.64271038 3658.38073833\n",
      " 3532.88076256 4973.12757542 4001.39116619 3968.92826231 3427.07478167\n",
      " 3457.70366626 3721.352215   3641.929725   5171.85199667 4013.40972705\n",
      " 3560.63453    3350.95141166 4510.34385    5336.96425667 3794.180605\n",
      " 3816.28204666 3917.07338223 3906.98549833 3834.82518897 3867.11564667]\n"
     ]
    }
   ],
   "source": [
    "from sklearn.ensemble import RandomForestRegressor\n",
    "\n",
    "rand_for_reg = RandomForestRegressor(n_estimators = 500, random_state = 42)#Created Random Forest regressor object\n",
    "rand_for_reg.fit(train_date, train_bitcoin_prices)#Random Forest regressor model is fit to training Data\n",
    "pred_bitcoin_prices = rand_for_reg.predict(test_date)#Made predictions using the testing set\n",
    "\n",
    "print(pred_bitcoin_prices)"
   ]
  },
  {
   "cell_type": "code",
   "execution_count": 62,
   "metadata": {},
   "outputs": [
    {
     "name": "stdout",
     "output_type": "stream",
     "text": [
      "98.69582374363458\n"
     ]
    }
   ],
   "source": [
    "print(rand_for_reg.score(test_date, test_bitcoin_prices)*100)#Checked accuracy of prediction"
   ]
  },
  {
   "cell_type": "code",
   "execution_count": 63,
   "metadata": {},
   "outputs": [
    {
     "data": {
      "image/png": "[encoded data removed]",
      "text/plain": [
       "<Figure size 432x288 with 1 Axes>"
      ]
     },
     "metadata": {
      "needs_background": "light"
     },
     "output_type": "display_data"
    }
   ],
   "source": [
    "import matplotlib.pyplot as plot\n",
    "\n",
    "# Plot outputs for Random Forest Regression:\n",
    "plot.scatter(range(len(test_bitcoin_prices)), test_bitcoin_prices, color = \"purple\", label = \"Data points\")\n",
    "plot.plot(range(len(test_bitcoin_prices)), pred_bitcoin_prices, color = \"red\", label = \"Random Forest Model\")\n",
    "plot.xlabel(\"Date\")\n",
    "plot.ylabel(\"Bitcoin Prices\")\n",
    "plot.title(\"Random Forest Regression\")\n",
    "plot.legend()\n",
    "plot.show()"
   ]
  },
  {
   "cell_type": "code",
   "execution_count": null,
   "metadata": {},
   "outputs": [],
   "source": []
  },
  {
   "cell_type": "code",
   "execution_count": null,
   "metadata": {},
   "outputs": [],
   "source": []
  }
 ],
 "metadata": {
  "kernelspec": {
   "display_name": "Python 3",
   "language": "python",
   "name": "python3"
  },
  "language_info": {
   "codemirror_mode": {
    "name": "ipython",
    "version": 3
   },
   "file_extension": ".py",
   "mimetype": "text/x-python",
   "name": "python",
   "nbconvert_exporter": "python",
   "pygments_lexer": "ipython3",
   "version": "3.7.1"
  }
 },
 "nbformat": 4,
 "nbformat_minor": 2
}
